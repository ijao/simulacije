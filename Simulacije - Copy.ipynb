{
 "cells": [
  {
   "cell_type": "markdown",
   "metadata": {
    "collapsed": false
   },
   "source": [
    "1. procitati fajl\n",
    "2. proveriti da li je doslo do saturacije u nekom kanalu\n",
    "3. digitalno filtriranje\n",
    "4. eliminisanje spajkova\n",
    "5. naci maksimum pika\n",
    "6. naci pocetak pika"
   ]
  },
  {
   "cell_type": "code",
   "execution_count": 1,
   "metadata": {
    "collapsed": false
   },
   "outputs": [],
   "source": [
    "from numba import jit\n",
    "import numpy as np\n",
    "import matplotlib\n",
    "%matplotlib inline\n",
    "import matplotlib.pyplot as plt\n",
    "from scipy.optimize import fsolve"
   ]
  },
  {
   "cell_type": "code",
   "execution_count": 2,
   "metadata": {
    "collapsed": true
   },
   "outputs": [],
   "source": [
    "f = open('xxxxxxxxx','rb')"
   ]
  },
  {
   "cell_type": "markdown",
   "metadata": {},
   "source": [
    "1 - struktura fajla - aktivni su bili samo kanali 2 i 3"
   ]
  },
  {
   "cell_type": "code",
   "execution_count": 3,
   "metadata": {
    "collapsed": true
   },
   "outputs": [],
   "source": [
    "#little endian\n",
    "file_header_dtype = np.dtype([\n",
    "    (\"event header\", \"S4\"),            # event header,  4-byte string\n",
    "    (\"serial_number\", \"<i4\"),       # Serial number starting with 1  - integer\n",
    "    (\"year\", \"<H\"),          # svih 8 je unsigned short - \n",
    "    (\"month\", \"<H\"),\n",
    "    (\"day\", \"<H\"),\n",
    "    (\"hour\", \"<H\"),             \n",
    "    (\"minute\", \"<H\"),            \n",
    "    (\"second\", \"<H\"),             \n",
    "    (\"milisecond\", \"<H\"),\n",
    "    (\"reserved\", \"<H\"),\n",
    "    (\"time_of_sample_bins\", (\"<f\", (1024,))), #1024 4-byte float vreme\n",
    "    (\"channel_header2\", \"S4\"), \n",
    "    (\"data_channel2\", (\"<u2\", (1024,))), # data 2-byte unsigned int\n",
    "    (\"channel_header3\", \"S4\"),\n",
    "    (\"data_channel3\", (\"<u2\", (1024,))), # data 2-byte unsigned int\n",
    "   ])\n"
   ]
  },
  {
   "cell_type": "code",
   "execution_count": 4,
   "metadata": {
    "collapsed": false
   },
   "outputs": [],
   "source": [
    "file_header = np.fromfile(f, dtype=file_header_dtype, count=-1)"
   ]
  },
  {
   "cell_type": "code",
   "execution_count": 5,
   "metadata": {
    "collapsed": true
   },
   "outputs": [],
   "source": [
    "vreme = file_header[\"time_of_sample_bins\"]"
   ]
  },
  {
   "cell_type": "code",
   "execution_count": 6,
   "metadata": {
    "collapsed": true
   },
   "outputs": [],
   "source": [
    "kanal2 = - file_header[\"data_channel2\"]"
   ]
  },
  {
   "cell_type": "code",
   "execution_count": 7,
   "metadata": {
    "collapsed": true
   },
   "outputs": [],
   "source": [
    "kanal3 = - file_header[\"data_channel3\"]"
   ]
  },
  {
   "cell_type": "code",
   "execution_count": 8,
   "metadata": {
    "collapsed": false
   },
   "outputs": [
    {
     "name": "stdout",
     "output_type": "stream",
     "text": [
      "(124181L, 1024L)\n",
      "(124181L, 1024L)\n",
      "(124181L, 1024L)\n"
     ]
    }
   ],
   "source": [
    "print vreme.shape\n",
    "print kanal2.shape\n",
    "print kanal3.shape"
   ]
  },
  {
   "cell_type": "markdown",
   "metadata": {},
   "source": [
    "grafik sa podacima iz jednog kanala sa invertovanim vrednostima napona"
   ]
  },
  {
   "cell_type": "code",
   "execution_count": 9,
   "metadata": {
    "collapsed": false
   },
   "outputs": [
    {
     "name": "stderr",
     "output_type": "stream",
     "text": [
      "C:\\Users\\PC\\Anaconda\\lib\\site-packages\\matplotlib\\collections.py:590: FutureWarning: elementwise comparison failed; returning scalar instead, but in the future will perform elementwise comparison\n",
      "  if self._edgecolors == str('face'):\n"
     ]
    },
    {
     "data": {
      "image/png": "[encoded data removed]",
      "text/plain": [
       "<matplotlib.figure.Figure at 0xd3310f0>"
      ]
     },
     "metadata": {},
     "output_type": "display_data"
    }
   ],
   "source": [
    "x = vreme[0]\n",
    "y = kanal2[0]\n",
    "plt.scatter(x,y)\n",
    "plt.plot(x, y, 'r')\n",
    "plt.xlabel('timebins [ns]')\n",
    "plt.ylabel('napon [integers]')\n",
    "plt.show()"
   ]
  },
  {
   "cell_type": "markdown",
   "metadata": {},
   "source": [
    "2 - Provera da li je doslo do saturacije u nekom kanalu"
   ]
  },
  {
   "cell_type": "code",
   "execution_count": 10,
   "metadata": {
    "collapsed": true
   },
   "outputs": [],
   "source": [
    "def saturacija(element_kanala):\n",
    "    return np.count_nonzero(element_kanala == max(element_kanala)) > 2"
   ]
  },
  {
   "cell_type": "code",
   "execution_count": 11,
   "metadata": {
    "collapsed": true
   },
   "outputs": [],
   "source": [
    "kanal3_saturacija= np.apply_along_axis(saturacija, 1, kanal3[:])"
   ]
  },
  {
   "cell_type": "code",
   "execution_count": 12,
   "metadata": {
    "collapsed": false
   },
   "outputs": [],
   "source": [
    "indeksi_kanal3_saturacija =[ind for ind, x in enumerate(kanal3_saturacija) if x == True]"
   ]
  },
  {
   "cell_type": "code",
   "execution_count": 13,
   "metadata": {
    "collapsed": false
   },
   "outputs": [],
   "source": [
    "kanal2_saturacija= np.apply_along_axis(saturacija, 1, kanal2[:])"
   ]
  },
  {
   "cell_type": "code",
   "execution_count": 14,
   "metadata": {
    "collapsed": false
   },
   "outputs": [],
   "source": [
    "indeksi_kanal2_saturacija =[ind for ind, x in enumerate(kanal2_saturacija) if x == True]"
   ]
  },
  {
   "cell_type": "code",
   "execution_count": 15,
   "metadata": {
    "collapsed": false
   },
   "outputs": [
    {
     "name": "stdout",
     "output_type": "stream",
     "text": [
      "3355\n",
      "31561\n"
     ]
    }
   ],
   "source": [
    "print len(indeksi_kanal3_saturacija)\n",
    "print len(indeksi_kanal2_saturacija)"
   ]
  },
  {
   "cell_type": "code",
   "execution_count": 16,
   "metadata": {
    "collapsed": true
   },
   "outputs": [],
   "source": [
    "indeksi_za_brisanje = set(indeksi_kanal2_saturacija + indeksi_kanal3_saturacija)"
   ]
  },
  {
   "cell_type": "code",
   "execution_count": 17,
   "metadata": {
    "collapsed": true
   },
   "outputs": [],
   "source": [
    "indeksi_za_brisanje_lista = sorted(list(indeksi_za_brisanje))"
   ]
  },
  {
   "cell_type": "code",
   "execution_count": 18,
   "metadata": {
    "collapsed": false
   },
   "outputs": [
    {
     "data": {
      "text/plain": [
       "33421"
      ]
     },
     "execution_count": 18,
     "metadata": {},
     "output_type": "execute_result"
    }
   ],
   "source": [
    "len(indeksi_za_brisanje_lista)"
   ]
  },
  {
   "cell_type": "code",
   "execution_count": 19,
   "metadata": {
    "collapsed": true
   },
   "outputs": [],
   "source": [
    "vreme_bez_saturisanih = np.delete(vreme, indeksi_za_brisanje_lista, 0)"
   ]
  },
  {
   "cell_type": "code",
   "execution_count": 20,
   "metadata": {
    "collapsed": false
   },
   "outputs": [],
   "source": [
    "kanal2_bez_saturisanih = np.delete(kanal2, indeksi_za_brisanje_lista, 0)"
   ]
  },
  {
   "cell_type": "code",
   "execution_count": 21,
   "metadata": {
    "collapsed": true
   },
   "outputs": [],
   "source": [
    "kanal3_bez_saturisanih = np.delete(kanal3, indeksi_za_brisanje_lista, 0)"
   ]
  },
  {
   "cell_type": "code",
   "execution_count": 22,
   "metadata": {
    "collapsed": false
   },
   "outputs": [
    {
     "name": "stdout",
     "output_type": "stream",
     "text": [
      "(90760L, 1024L)\n",
      "(90760L, 1024L)\n",
      "(90760L, 1024L)\n"
     ]
    }
   ],
   "source": [
    "print vreme_bez_saturisanih.shape\n",
    "print kanal2_bez_saturisanih.shape\n",
    "print kanal3_bez_saturisanih.shape"
   ]
  },
  {
   "cell_type": "markdown",
   "metadata": {},
   "source": [
    "3 - digitalno filtriranje"
   ]
  },
  {
   "cell_type": "code",
   "execution_count": 23,
   "metadata": {
    "collapsed": true
   },
   "outputs": [],
   "source": [
    "@jit\n",
    "def filtriranje(nefiltrirani):\n",
    "    filtrirani = np.ones(1024)\n",
    "    y2, y1 = nefiltrirani[:2]\n",
    "    filtrirani[0] = nefiltrirani[0]\n",
    "    filtrirani[1] = nefiltrirani[1]\n",
    "    for i in range(2,1024):\n",
    "        y = 0.20657 * nefiltrirani[i] + 0.41314 * nefiltrirani[i-1] \\\n",
    "        + 0.20657 * nefiltrirani[i-2] + 0.36953 * y1 - 0.19582 * y2\n",
    "        filtrirani[i] = y\n",
    "        y2 = y1\n",
    "        y1 = y\n",
    "    return filtrirani"
   ]
  },
  {
   "cell_type": "code",
   "execution_count": 24,
   "metadata": {
    "collapsed": true
   },
   "outputs": [],
   "source": [
    "kanal2_filtrirani = np.apply_along_axis(filtriranje, 1, kanal2_bez_saturisanih[:])"
   ]
  },
  {
   "cell_type": "code",
   "execution_count": 25,
   "metadata": {
    "collapsed": true
   },
   "outputs": [],
   "source": [
    "kanal3_filtrirani = np.apply_along_axis(filtriranje, 1, kanal3_bez_saturisanih[:])"
   ]
  },
  {
   "cell_type": "markdown",
   "metadata": {
    "collapsed": true
   },
   "source": [
    "4 - eliminisanje spajkova"
   ]
  },
  {
   "cell_type": "code",
   "execution_count": 26,
   "metadata": {
    "collapsed": false
   },
   "outputs": [],
   "source": [
    "@jit\n",
    "def eliminisanje_spajkova(kanal):\n",
    "    \n",
    "    for i in range(30):\n",
    "        kanal[i] = (kanal[51+i] + kanal[52+i] + kanal[53+i] + kanal[54+i] + \\\n",
    "                    kanal[55+i] + kanal[56+i] + kanal[57+i] + kanal[58+i]) / 8\n",
    "    for i in range(30,1000):\n",
    "        kanal[i] = (kanal[i-6] + kanal[i-5] + kanal[i-4] + kanal[i-3] + \\\n",
    "                    kanal[i-2] + kanal[i-1] + kanal[i] + kanal[i+1] + kanal[i+2] + \\\n",
    "                    kanal[i+3] + kanal[i+4] + kanal[i+5] + kanal[i+6]) / 13\n",
    "    for i in range(1000,1024):\n",
    "        kanal[i] = (kanal[851] + kanal[852] + kanal[853] + kanal[854] + \\\n",
    "                    kanal[855] + kanal[856] + kanal[857] + kanal[858]) / 8\n",
    "    return kanal"
   ]
  },
  {
   "cell_type": "code",
   "execution_count": 27,
   "metadata": {
    "collapsed": true
   },
   "outputs": [],
   "source": [
    "kanal2_filtrirani_i_eliminisani_spajkovi = np.apply_along_axis(eliminisanje_spajkova, 1, kanal2_filtrirani[:])"
   ]
  },
  {
   "cell_type": "code",
   "execution_count": 28,
   "metadata": {
    "collapsed": false
   },
   "outputs": [],
   "source": [
    "kanal3_filtrirani_i_eliminisani_spajkovi = np.apply_along_axis(eliminisanje_spajkova, 1, kanal3_filtrirani[:])"
   ]
  },
  {
   "cell_type": "markdown",
   "metadata": {},
   "source": [
    "5 - maksimum pika"
   ]
  },
  {
   "cell_type": "code",
   "execution_count": 29,
   "metadata": {
    "collapsed": false
   },
   "outputs": [
    {
     "data": {
      "image/png": "[encoded data removed]",
      "text/plain": [
       "<matplotlib.figure.Figure at 0xd982b00>"
      ]
     },
     "metadata": {},
     "output_type": "display_data"
    }
   ],
   "source": [
    "#primer fita za maksimum pika\n",
    "\n",
    "\n",
    "#numpy.polyfit performs a least squares polynomial fit\n",
    "#poly1d calculates the new points\n",
    "#maksimum daje indeks maksimalne vrednosti i od te tacke uzimam 10 sa leve i 10 sa desne strane za fit\n",
    "\n",
    "\n",
    "def grafik_fita(vreme, kanal):\n",
    "    maksimum = kanal.argmax()\n",
    "    donji_indeks = maksimum - 10\n",
    "    gornji_indeks = maksimum + 10\n",
    "    x = vreme[donji_indeks:gornji_indeks]\n",
    "    y = kanal[donji_indeks:gornji_indeks]\n",
    "    koeficijenti = np.polyfit(x, y, 2)\n",
    "    f = np.poly1d(koeficijenti)\n",
    "    y_new = f(x)\n",
    "    plt.plot(x, y, 'o')\n",
    "    plt.plot(x, y_new, '-')\n",
    "    plt.show()\n",
    "    \n",
    "    \n",
    "grafik_fita(vreme[9824],kanal2_filtrirani_i_eliminisani_spajkovi[9824] )\n",
    "\n"
   ]
  },
  {
   "cell_type": "markdown",
   "metadata": {},
   "source": [
    "6 - Pocetak pika"
   ]
  },
  {
   "cell_type": "code",
   "execution_count": 30,
   "metadata": {
    "collapsed": false
   },
   "outputs": [],
   "source": [
    "#inicijalne vrednosti koeficijenata za prave\n",
    "a,b,c,d = 1,1,1,1\n",
    "\n",
    "def fitovanje(vreme,kanal):\n",
    "    indeks_maksimuma = kanal.argmax()\n",
    "    minimum = min(kanal)\n",
    "    #indeks_minimuma = kanal.argmin()\n",
    "    #minimum = kanal[indeks_minimuma]\n",
    "    donji_indeks = indeks_maksimuma - 10\n",
    "    gornji_indeks = indeks_maksimuma + 10\n",
    "    x = vreme[donji_indeks:gornji_indeks]\n",
    "    y = kanal[donji_indeks:gornji_indeks]\n",
    "    koeficijenti = np.polyfit(x, y, 2)\n",
    "    f = np.poly1d(koeficijenti)\n",
    "    y_novo = f(x)\n",
    "    \n",
    "    return max(y_novo), minimum\n",
    "\n",
    "\n",
    "# dve tacke za pravu koja sece X osu (20% i 80% maksimuma funkcije) i prava kroz njih\n",
    "\n",
    "def prava_kroz_02maks_i_08maks(maksimum, minimum, vreme, kanal):\n",
    "    razlika = maksimum - minimum\n",
    "    donja_prava = razlika * 0.2 + minimum\n",
    "    gornja_prava = razlika * 0.8 + minimum\n",
    "\n",
    "    index_y1 = np.argmax(kanal > donja_prava)\n",
    "    value_y1 = kanal[index_y1]\n",
    "    value_x1 = vreme[index_y1]\n",
    "\n",
    "    index_y2 = np.argmax(kanal > gornja_prava)\n",
    "    value_y2 = kanal[index_y2]\n",
    "    value_x2 = vreme[index_y2]\n",
    "\n",
    "    Y_koordinate_tacaka = [value_y1, value_y2]\n",
    "    X_koordinate_tacaka = [value_x1, value_x2]\n",
    "    \n",
    "    a,b = np.polyfit(X_koordinate_tacaka, Y_koordinate_tacaka, 1)\n",
    "    #y = a * x + b\n",
    "    #y_new = a*vreme + b\n",
    "    #plt.plot(vreme, kanal, 'o')\n",
    "    #plt.plot(vreme, y_new, '-')\n",
    "    #plt.show()\n",
    "    return a,b\n",
    "\n",
    "\n",
    "# prava kroz pocetak grafika pre pika\n",
    "# koeficijenti pravca prave c, d\n",
    "\n",
    "def prava_kroz_Xosu(x,y):  \n",
    "    indeksi_tacaka_za_fit = (x > min(x)) & (x < 30.0)\n",
    "    x_tacke = x[indeksi_tacaka_za_fit]\n",
    "    y_tacke = y[indeksi_tacaka_za_fit] \n",
    "    c,d = np.polyfit(x_tacke, y_tacke, 1)\n",
    "    #y_new = c*vreme + d\n",
    "    #plt.plot(vreme, y_new, '-')\n",
    "    #plt.show()\n",
    "    #y = c * x + d\n",
    "    return c,d\n",
    "\n",
    "\n",
    "\n",
    "#tacka preseka dve prave tj vreme pocetka impulsa\n",
    "def presek_pravih(input_vector):\n",
    "    x,y = input_vector\n",
    "    z = np.array([y - x*a - b, y - x*c - d])\n",
    "    return z\n",
    "\n",
    "\n",
    "\n",
    "def pocetak_impulsa(vreme, kanal):\n",
    "    global a, b, c, d\n",
    "    maksimum, minimum  = fitovanje(vreme,kanal)\n",
    "    a,b = prava_kroz_02maks_i_08maks(maksimum, minimum, vreme, kanal)\n",
    "    c,d = prava_kroz_Xosu(vreme, kanal)\n",
    "    return fsolve(presek_pravih, [60.0, 0.0])[0]\n",
    "    \n",
    "    "
   ]
  },
  {
   "cell_type": "code",
   "execution_count": 32,
   "metadata": {
    "collapsed": false
   },
   "outputs": [],
   "source": [
    "t_2 = np.array([])\n",
    "t_3 = np.array([])\n",
    "\n",
    "for i in range(kanal2_filtrirani_i_eliminisani_spajkovi.shape[0]):\n",
    "    try:\n",
    "        result2 = pocetak_impulsa(vreme[i], kanal2_filtrirani_i_eliminisani_spajkovi[i])\n",
    "        result3 = pocetak_impulsa(vreme[i], kanal3_filtrirani_i_eliminisani_spajkovi[i])\n",
    "        t_2 = np.append(t_2, result2)\n",
    "        t_3 = np.append(t_3, result3)\n",
    "        \n",
    "    except TypeError:\n",
    "        pass\n",
    "    \n"
   ]
  },
  {
   "cell_type": "code",
   "execution_count": 33,
   "metadata": {
    "collapsed": false
   },
   "outputs": [
    {
     "data": {
      "text/plain": [
       "(90759L,)"
      ]
     },
     "execution_count": 33,
     "metadata": {},
     "output_type": "execute_result"
    }
   ],
   "source": [
    "t_2.shape"
   ]
  },
  {
   "cell_type": "code",
   "execution_count": 34,
   "metadata": {
    "collapsed": false
   },
   "outputs": [
    {
     "data": {
      "text/plain": [
       "(90759L,)"
      ]
     },
     "execution_count": 34,
     "metadata": {},
     "output_type": "execute_result"
    }
   ],
   "source": [
    "t_3.shape"
   ]
  },
  {
   "cell_type": "code",
   "execution_count": 35,
   "metadata": {
    "collapsed": false
   },
   "outputs": [],
   "source": [
    "delta_t = t_2 - t_3"
   ]
  },
  {
   "cell_type": "code",
   "execution_count": 38,
   "metadata": {
    "collapsed": true
   },
   "outputs": [],
   "source": [
    "#svi van -2. < x < 2.\n",
    "broj_van_opsega_2 = [ind for ind, x in enumerate(delta_t) if ((x < - 2.) or (x > 2.))]"
   ]
  },
  {
   "cell_type": "code",
   "execution_count": 43,
   "metadata": {
    "collapsed": false
   },
   "outputs": [
    {
     "data": {
      "text/plain": [
       "165"
      ]
     },
     "execution_count": 43,
     "metadata": {},
     "output_type": "execute_result"
    }
   ],
   "source": [
    "len(broj_van_opsega_2)"
   ]
  },
  {
   "cell_type": "code",
   "execution_count": 44,
   "metadata": {
    "collapsed": false
   },
   "outputs": [],
   "source": [
    "delta_t_bez_ekstrema = np.delete(delta_t, broj_van_opsega_2, 0)"
   ]
  },
  {
   "cell_type": "code",
   "execution_count": 45,
   "metadata": {
    "collapsed": false
   },
   "outputs": [
    {
     "name": "stdout",
     "output_type": "stream",
     "text": [
      "-0.220060254185 0.27867789058\n"
     ]
    }
   ],
   "source": [
    "mean = np.mean(delta_t_bez_ekstrema)\n",
    "variance = np.var(delta_t_bez_ekstrema)\n",
    "sigma = np.sqrt(variance)\n",
    "\n",
    "print mean, sigma"
   ]
  },
  {
   "cell_type": "code",
   "execution_count": 46,
   "metadata": {
    "collapsed": false
   },
   "outputs": [
    {
     "data": {
      "image/png": "[encoded data removed]",
      "text/plain": [
       "<matplotlib.figure.Figure at 0xdbeef28>"
      ]
     },
     "metadata": {},
     "output_type": "display_data"
    }
   ],
   "source": [
    "#np.histogram([1, 2, 1], bins=[0, 1, 2, 3])\n",
    "plt.hist(delta_t_bez_ekstrema, bins=np.linspace(-2.0, 2.0, num=60))\n",
    "plt.suptitle('vremensko razlaganje', fontsize=20)\n",
    "plt.xlabel('delta t [ns]', fontsize=18)\n",
    "#plt.ylabel('ylabel', fontsize=16)\n",
    "plt.show()\n"
   ]
  }
 ],
 "metadata": {
  "kernelspec": {
   "display_name": "Python 2",
   "language": "python",
   "name": "python2"
  },
  "language_info": {
   "codemirror_mode": {
    "name": "ipython",
    "version": 2
   },
   "file_extension": ".py",
   "mimetype": "text/x-python",
   "name": "python",
   "nbconvert_exporter": "python",
   "pygments_lexer": "ipython2",
   "version": "2.7.11"
  }
 },
 "nbformat": 4,
 "nbformat_minor": 0
}
