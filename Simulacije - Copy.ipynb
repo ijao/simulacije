{
 "cells": [
  {
   "cell_type": "markdown",
   "metadata": {
    "collapsed": false
   },
   "source": [
    "1. procitati fajl\n",
    "2. proveriti da li ima signala u svim kanalima\n",
    "3. digitalno filtriranje\n",
    "4. eliminisanje spajkova\n",
    "5. naci maksimum pika\n",
    "6. naci pocetak pika"
   ]
  },
  {
   "cell_type": "code",
   "execution_count": 1,
   "metadata": {
    "collapsed": true
   },
   "outputs": [],
   "source": [
    "from numba import jit\n",
    "from scipy.optimize import curve_fit\n",
    "import numpy as np\n",
    "import matplotlib\n",
    "import matplotlib.pyplot as plt\n"
   ]
  },
  {
   "cell_type": "code",
   "execution_count": 2,
   "metadata": {
    "collapsed": true
   },
   "outputs": [],
   "source": [
    "f = open('c:\\DRS4 2013.04.26 22pf Coinc 2-3.dat','rb')"
   ]
  },
  {
   "cell_type": "markdown",
   "metadata": {},
   "source": [
    "1 - struktura fajla - aktivni su bili samo kanali 2 i 3"
   ]
  },
  {
   "cell_type": "code",
   "execution_count": 3,
   "metadata": {
    "collapsed": true
   },
   "outputs": [],
   "source": [
    "#little endian\n",
    "file_header_dtype = np.dtype([\n",
    "    (\"event header\", \"S4\"),            # event header,  4-byte string\n",
    "    (\"serial_number\", \"<i4\"),       # Serial number starting with 1  - integer\n",
    "    (\"year\", \"<H\"),          # svih 8 je unsigned short - \n",
    "    (\"month\", \"<H\"),\n",
    "    (\"day\", \"<H\"),\n",
    "    (\"hour\", \"<H\"),             \n",
    "    (\"minute\", \"<H\"),            \n",
    "    (\"second\", \"<H\"),             \n",
    "    (\"milisecond\", \"<H\"),\n",
    "    (\"reserved\", \"<H\"),\n",
    "    (\"time_of_sample_bins\", (\"<f\", (1024,))), #1024 4-byte float vreme\n",
    "    (\"channel_header2\", \"S4\"), \n",
    "    (\"data_channel2\", (\"<u2\", (1024,))), # data 2-byte unsigned int\n",
    "    (\"channel_header3\", \"S4\"),\n",
    "    (\"data_channel3\", (\"<u2\", (1024,))), # data 2-byte unsigned int\n",
    "   ])\n"
   ]
  },
  {
   "cell_type": "code",
   "execution_count": 4,
   "metadata": {
    "collapsed": false
   },
   "outputs": [],
   "source": [
    "file_header = np.fromfile(f, dtype=file_header_dtype, count=-1)"
   ]
  },
  {
   "cell_type": "code",
   "execution_count": 5,
   "metadata": {
    "collapsed": true
   },
   "outputs": [],
   "source": [
    "vreme = file_header[\"time_of_sample_bins\"]"
   ]
  },
  {
   "cell_type": "code",
   "execution_count": 6,
   "metadata": {
    "collapsed": true
   },
   "outputs": [],
   "source": [
    "kanal2 = file_header[\"data_channel2\"]"
   ]
  },
  {
   "cell_type": "code",
   "execution_count": 7,
   "metadata": {
    "collapsed": true
   },
   "outputs": [],
   "source": [
    "kanal3 = file_header[\"data_channel3\"]"
   ]
  },
  {
   "cell_type": "markdown",
   "metadata": {},
   "source": [
    "grafik sa podacima iz jednog iventa kanal 2 "
   ]
  },
  {
   "cell_type": "code",
   "execution_count": 43,
   "metadata": {
    "collapsed": false
   },
   "outputs": [
    {
     "data": {
      "image/png": "[encoded data removed]",
      "text/plain": [
       "<matplotlib.figure.Figure at 0xf2f2898>"
      ]
     },
     "metadata": {},
     "output_type": "display_data"
    }
   ],
   "source": [
    "%matplotlib inline\n",
    "x = vreme[0]\n",
    "y = file_header[\"data_channel2\"][0]\n",
    "plt.scatter(x,y)\n",
    "plt.plot(x, y, 'r')\n",
    "plt.xlabel('timebins [ns]')\n",
    "plt.ylabel('napon [integers]')\n",
    "plt.show()"
   ]
  },
  {
   "cell_type": "code",
   "execution_count": null,
   "metadata": {
    "collapsed": true
   },
   "outputs": [],
   "source": []
  },
  {
   "cell_type": "markdown",
   "metadata": {},
   "source": [
    "2  - provera da li ima signala u svim kanalima"
   ]
  },
  {
   "cell_type": "code",
   "execution_count": 8,
   "metadata": {
    "collapsed": false
   },
   "outputs": [],
   "source": [
    "#ovde trazimo min vrednosti u svakom kanalu\n",
    "def vrednost_minimuma_u_kanalu(kanal):\n",
    "    return np.min(kanal)\n",
    "\n",
    "kanal2_= np.apply_along_axis(vrednost_minimuma_u_kanalu, 1, kanal2[:])\n"
   ]
  },
  {
   "cell_type": "code",
   "execution_count": 9,
   "metadata": {
    "collapsed": false
   },
   "outputs": [
    {
     "data": {
      "text/plain": [
       "29281"
      ]
     },
     "execution_count": 9,
     "metadata": {},
     "output_type": "execute_result"
    }
   ],
   "source": [
    "# kanal sa najvecom minimalnom vrednosti\n",
    "max(kanal2_)"
   ]
  },
  {
   "cell_type": "code",
   "execution_count": 10,
   "metadata": {
    "collapsed": false
   },
   "outputs": [
    {
     "data": {
      "text/plain": [
       "(array([16834], dtype=int64),)"
      ]
     },
     "execution_count": 10,
     "metadata": {},
     "output_type": "execute_result"
    }
   ],
   "source": [
    "#indeks kanala sa najvecom minimalnom vrednosti\n",
    "np.nonzero(kanal2_ == 29281)"
   ]
  },
  {
   "cell_type": "code",
   "execution_count": 11,
   "metadata": {
    "collapsed": false
   },
   "outputs": [
    {
     "name": "stderr",
     "output_type": "stream",
     "text": [
      "C:\\Users\\PC\\Anaconda\\lib\\site-packages\\matplotlib\\collections.py:590: FutureWarning: elementwise comparison failed; returning scalar instead, but in the future will perform elementwise comparison\n",
      "  if self._edgecolors == str('face'):\n"
     ]
    }
   ],
   "source": [
    "#grafik kanala sa najvecom minimalnom vrednosti\n",
    "x = vreme[16834]\n",
    "y = file_header[\"data_channel2\"][16834]\n",
    "plt.scatter(x,y)\n",
    "plt.plot(x, y, 'r')\n",
    "plt.xlabel('timebins [ns]')\n",
    "plt.ylabel('naponi [integers]')\n",
    "plt.show()"
   ]
  },
  {
   "cell_type": "markdown",
   "metadata": {
    "collapsed": true
   },
   "source": [
    "na osnovu slike kanala sa sumom koju si mi poslao,\n",
    "zakljucio sam da nije bilo praznih kanala,\n",
    "jer da ih je bilo ne bih dobio ovakav grafik za signal iz kanala sa najmanjim maksimumom napona"
   ]
  },
  {
   "cell_type": "markdown",
   "metadata": {},
   "source": [
    "3 - digitalno filtriranje"
   ]
  },
  {
   "cell_type": "code",
   "execution_count": 8,
   "metadata": {
    "collapsed": true
   },
   "outputs": [],
   "source": [
    "@jit\n",
    "def filtriranje(nefiltrirani):\n",
    "    filtrirani = np.ones(1024)\n",
    "    y2, y1 = nefiltrirani[:2]\n",
    "    filtrirani[0] = nefiltrirani[0]\n",
    "    filtrirani[1] = nefiltrirani[1]\n",
    "    for i in range(2,1024):\n",
    "        y = 0.20657 * nefiltrirani[i] + 0.41314 * nefiltrirani[i-1] \\\n",
    "        + 0.20657 * nefiltrirani[i-2] + 0.36953 * y1 - 0.19582 * y2\n",
    "        filtrirani[i] = y\n",
    "        y2 = y1\n",
    "        y1 = y\n",
    "    return filtrirani"
   ]
  },
  {
   "cell_type": "code",
   "execution_count": 9,
   "metadata": {
    "collapsed": true
   },
   "outputs": [],
   "source": [
    "#kanal2_filtrirani = np.apply_along_axis(filtriranje, 1, kanal2[:])"
   ]
  },
  {
   "cell_type": "code",
   "execution_count": 10,
   "metadata": {
    "collapsed": true
   },
   "outputs": [],
   "source": [
    "kanal2_filtrirani = np.apply_along_axis(filtriranje, 1, kanal2[:10000]) #samo deo iventova zbog memorije"
   ]
  },
  {
   "cell_type": "code",
   "execution_count": 28,
   "metadata": {
    "collapsed": false
   },
   "outputs": [
    {
     "data": {
      "image/png": "[encoded data removed]",
      "text/plain": [
       "<matplotlib.figure.Figure at 0xf119710>"
      ]
     },
     "metadata": {},
     "output_type": "display_data"
    }
   ],
   "source": [
    "x = vreme[834]\n",
    "y = kanal2_filtrirani[834]\n",
    "plt.scatter(x,y)\n",
    "plt.plot(x, y, 'r')\n",
    "plt.xlabel('timebins [ns]')\n",
    "plt.ylabel('naponi [integers]')\n",
    "plt.show()"
   ]
  },
  {
   "cell_type": "code",
   "execution_count": 29,
   "metadata": {
    "collapsed": true
   },
   "outputs": [],
   "source": [
    "#kanal3_filtrirani = np.apply_along_axis(filtriranje, 1, kanal3[:])"
   ]
  },
  {
   "cell_type": "markdown",
   "metadata": {
    "collapsed": true
   },
   "source": [
    "4 - eliminisanje spajkova"
   ]
  },
  {
   "cell_type": "code",
   "execution_count": 30,
   "metadata": {
    "collapsed": false
   },
   "outputs": [],
   "source": [
    "@jit\n",
    "def eliminisanje_spajkova(kanal):\n",
    "    #usrednjavanje sa 6 tacaka levo i 6 desno\n",
    "    for i in range(6, 1018):\n",
    "        kanal[i] = (kanal[i-6] + kanal[i-5] + kanal[i-4] + kanal[i-3] + \\\n",
    "                    kanal[i-2] + kanal[i-1] + kanal[i] + kanal[i+1] + kanal[i+2] + \\\n",
    "                    kanal[i+3] + kanal[i+4] + kanal[i+5] + kanal[i+6]) / 13\n",
    "    return kanal"
   ]
  },
  {
   "cell_type": "code",
   "execution_count": 12,
   "metadata": {
    "collapsed": true
   },
   "outputs": [],
   "source": [
    "#kanal2_filtrirani_i_eliminisani_spajkovi = np.apply_along_axis(eliminisanje_spajkova, 1, kanal2_filtrirani[:])"
   ]
  },
  {
   "cell_type": "code",
   "execution_count": 31,
   "metadata": {
    "collapsed": true
   },
   "outputs": [],
   "source": [
    "kanal2_filtrirani_i_eliminisani_spajkovi = np.apply_along_axis(eliminisanje_spajkova, 1, kanal2_filtrirani[:])\\\n",
    "# samo 10000 koji su gore filtrirani"
   ]
  },
  {
   "cell_type": "code",
   "execution_count": 41,
   "metadata": {
    "collapsed": false
   },
   "outputs": [
    {
     "data": {
      "image/png": "[encoded data removed]",
      "text/plain": [
       "<matplotlib.figure.Figure at 0xdb2c978>"
      ]
     },
     "metadata": {},
     "output_type": "display_data"
    }
   ],
   "source": [
    "x = vreme[855]\n",
    "y = kanal2_filtrirani_i_eliminisani_spajkovi[855]\n",
    "plt.scatter(x,y)\n",
    "plt.plot(x, y, 'r')\n",
    "plt.xlabel('timebins [ns]')\n",
    "plt.ylabel('naponi [integers]')\n",
    "plt.show()"
   ]
  },
  {
   "cell_type": "code",
   "execution_count": 32,
   "metadata": {
    "collapsed": true
   },
   "outputs": [],
   "source": [
    "#kanal3_filtrirani_i_eliminisani_spajkovi = np.apply_along_axis(eliminisanje_spajkova, 1, kanal3_filtrirani[:])"
   ]
  },
  {
   "cell_type": "markdown",
   "metadata": {},
   "source": [
    "5 - maksimum pika"
   ]
  },
  {
   "cell_type": "markdown",
   "metadata": {},
   "source": [
    "fitovanje gausijanom,\n",
    "kod uzet sa:\n",
    "http://scipy-cookbook.readthedocs.org/items/FittingData.html#fitting-gaussian-shaped-data"
   ]
  },
  {
   "cell_type": "code",
   "execution_count": 78,
   "metadata": {
    "collapsed": false
   },
   "outputs": [],
   "source": [
    "#gaussian = lambda x: 3*np.exp(-(30-x)**2/20.)\n",
    "primer =  -kanal2[30]/100\n",
    "data = primer[260:520]\n",
    "plt.plot(data, '.')\n",
    "\n",
    "X = np.arange(data.size)\n",
    "x = np.sum(X*data)/np.sum(data)\n",
    "width = np.sqrt(np.abs(np.sum((X-x)**2*data)/np.sum(data)))\n",
    "\n",
    "max = data.max()\n",
    "\n",
    "fit = lambda t : max*np.exp(-(t-x)**2/(2*width**2))\n",
    "\n",
    "plt.plot(fit(X), '-')\n",
    "plt.show()\n",
    "\n"
   ]
  },
  {
   "cell_type": "code",
   "execution_count": 79,
   "metadata": {
    "collapsed": true
   },
   "outputs": [],
   "source": [
    "#sa filtriranim \n",
    "#gaussian = lambda x: 3*np.exp(-(30-x)**2/20.)\n",
    "primer =  kanal2_filtrirani[30]/100\n",
    "data = primer[280:500]\n",
    "plt.plot(data, '.')\n",
    "\n",
    "X = np.arange(data.size)\n",
    "x = np.sum(X*data)/np.sum(data)\n",
    "width = np.sqrt(np.abs(np.sum((X-x)**2*data)/np.sum(data)))\n",
    "\n",
    "max = data.max()\n",
    "\n",
    "fit = lambda t : max*np.exp(-(t-x)**2/(2*width**2))\n",
    "\n",
    "plt.plot(fit(X), '-')\n",
    "plt.show()\n",
    "\n"
   ]
  },
  {
   "cell_type": "code",
   "execution_count": 70,
   "metadata": {
    "collapsed": true
   },
   "outputs": [],
   "source": [
    "\n",
    "from scipy import optimize\n",
    "\n",
    "class Parameter:\n",
    "    def __init__(self, value):\n",
    "            self.value = value\n",
    "\n",
    "    def set(self, value):\n",
    "            self.value = value\n",
    "\n",
    "    def __call__(self):\n",
    "            return self.value\n",
    "\n",
    "def fit(function, parameters, y, x = None):\n",
    "    def f(params):\n",
    "        i = 0\n",
    "        for p in parameters:\n",
    "            p.set(params[i])\n",
    "            i += 1\n",
    "        return y - function(x)\n",
    "\n",
    "    if x is None: x = np.arange(y.shape[0])\n",
    "    p = [param() for param in parameters]\n",
    "    return optimize.leastsq(f, p)\n",
    "\n"
   ]
  },
  {
   "cell_type": "code",
   "execution_count": 69,
   "metadata": {
    "collapsed": false
   },
   "outputs": [
    {
     "name": "stdout",
     "output_type": "stream",
     "text": [
      "(array([   461.1328155 ,  -1469.06089576,  35972.50068527]), 1)\n"
     ]
    }
   ],
   "source": [
    "# giving initial parameters\n",
    "mu = Parameter(7)\n",
    "sigma = Parameter(3)\n",
    "height = Parameter(5)\n",
    "\n",
    "# define your function:\n",
    "def f(x): return height() * np.exp(-((x-mu())/sigma())**2)\n",
    "\n",
    "# fit! (given that data is an array with the data to fit)\n",
    "data = -kanal2[1]\n",
    "print fit(f, [mu, sigma, height], data)\n"
   ]
  },
  {
   "cell_type": "code",
   "execution_count": 82,
   "metadata": {
    "collapsed": false
   },
   "outputs": [
    {
     "name": "stdout",
     "output_type": "stream",
     "text": [
      "Fitted mean =  0.0\n",
      "Fitted standard deviation =  1.0\n"
     ]
    }
   ],
   "source": [
    "x = vreme[100][260:520]\n",
    "y = -kanal2_filtrirani[100][260:520]\n",
    "\n",
    "\n",
    "def gauss(x, *p):\n",
    "    A, mu, sigma = p\n",
    "    return A*np.exp(-(x-mu)**2/(2.*sigma**2))\n",
    "\n",
    "p0 = [1., 0., 1.]\n",
    "\n",
    "coeff, var_matrix = curve_fit(gauss,x, y, p0=p0)\n",
    "\n",
    "# Get the fitted curve\n",
    "hist_fit = gauss(x, *coeff)\n",
    "\n",
    "plt.plot(x, y, label='Test data')\n",
    "plt.plot(x, hist_fit, label='Fitted data')\n",
    "\n",
    "# Finally, lets get the fitting parameters, i.e. the mean and standard deviation:\n",
    "print 'Fitted mean = ', coeff[1]\n",
    "print 'Fitted standard deviation = ', coeff[2]\n",
    "\n",
    "plt.show()"
   ]
  },
  {
   "cell_type": "code",
   "execution_count": 87,
   "metadata": {
    "collapsed": false
   },
   "outputs": [],
   "source": [
    "from scipy.optimize import curve_fit\n",
    "from scipy import asarray as ar,exp\n",
    "\n",
    "x = vreme[30][260:520]\n",
    "y = -kanal2[30][260:520]\n",
    "\n",
    "n = len(x)                          #the number of data\n",
    "mean = sum(x*y)/n                   #note this correction\n",
    "sigma = sum(y*(x-mean)**2)/n        #note this correction\n",
    "\n",
    "def gaus(x,a,x0,sigma):\n",
    "    return a*exp(-(x-x0)**2/(2*sigma**2))\n",
    "\n",
    "popt,pcov = curve_fit(gaus,x,y,p0=[1,mean,sigma])\n",
    "\n",
    "plt.plot(x,y,'b+:',label='data')\n",
    "plt.plot(x,gaus(x,*popt),'ro:',label='fit')\n",
    "plt.legend()\n",
    "plt.title('Fig. 3 - Fit for Time Constant')\n",
    "plt.xlabel('Time (s)')\n",
    "plt.ylabel('Voltage (V)')\n",
    "plt.show()"
   ]
  },
  {
   "cell_type": "code",
   "execution_count": 44,
   "metadata": {
    "collapsed": false
   },
   "outputs": [
    {
     "name": "stdout",
     "output_type": "stream",
     "text": [
      "[[Model]]\n",
      "    Model(gaussian)\n",
      "[[Fit Statistics]]\n",
      "    # function evals   = 6\n",
      "    # data points      = 260\n",
      "    # variables        = 3\n",
      "    chi-square         = 240760972504.112\n",
      "    reduced chi-square = 936813122.584\n",
      "    Akaike info crit   = 5377.079\n",
      "    Bayesian info crit = 5387.761\n",
      "[[Variables]]\n",
      "    amp:   5          +/- 0        (0.00%) (init= 5)\n",
      "    cen:   5          +/- 0        (0.00%) (init= 5)\n",
      "    wid:   1.00000001 +/- 0        (0.00%) (init= 1)\n",
      "[[Correlations]] (unreported correlations are <  0.100)\n",
      "\n"
     ]
    }
   ],
   "source": [
    "from numpy import sqrt, pi, exp, linspace, loadtxt\n",
    "from lmfit import  Model\n",
    "\n",
    "import matplotlib.pyplot as plt\n",
    "\n",
    "#data = loadtxt('model1d_gauss.dat')\n",
    "x = vreme[28][260:520]\n",
    "y = kanal2_filtrirani[28][260:520]\n",
    "\n",
    "def gaussian(x, amp, cen, wid):\n",
    "    \"1-d gaussian: gaussian(x, amp, cen, wid)\"\n",
    "    return (amp/(sqrt(2*pi)*wid)) * exp(-(x-cen)**2 /(2*wid**2))\n",
    "\n",
    "gmod = Model(gaussian)\n",
    "result = gmod.fit(y, x=x, amp=5, cen=5, wid=1)\n",
    "\n",
    "print(result.fit_report())\n",
    "\n",
    "plt.plot(x, y,         'bo')\n",
    "plt.plot(x, result.init_fit, 'k--')\n",
    "plt.plot(x, result.best_fit, 'r-')\n",
    "plt.show()"
   ]
  },
  {
   "cell_type": "code",
   "execution_count": 46,
   "metadata": {
    "collapsed": false
   },
   "outputs": [
    {
     "ename": "AttributeError",
     "evalue": "'function' object has no attribute 'close'",
     "output_type": "error",
     "traceback": [
      "\u001b[1;31m---------------------------------------------------------------------------\u001b[0m",
      "\u001b[1;31mAttributeError\u001b[0m                            Traceback (most recent call last)",
      "\u001b[1;32m<ipython-input-46-fa01cc0d8510>\u001b[0m in \u001b[0;36m<module>\u001b[1;34m()\u001b[0m\n\u001b[1;32m----> 1\u001b[1;33m \u001b[0mf\u001b[0m\u001b[1;33m.\u001b[0m\u001b[0mclose\u001b[0m\u001b[1;33m(\u001b[0m\u001b[1;33m)\u001b[0m\u001b[1;33m\u001b[0m\u001b[0m\n\u001b[0m",
      "\u001b[1;31mAttributeError\u001b[0m: 'function' object has no attribute 'close'"
     ]
    }
   ],
   "source": [
    "f.close()"
   ]
  },
  {
   "cell_type": "code",
   "execution_count": 157,
   "metadata": {
    "collapsed": false
   },
   "outputs": [
    {
     "data": {
      "text/plain": [
       "['broj_tacaka',\n",
       " 'eliminisanje_spajkova',\n",
       " 'elspajk',\n",
       " 'f',\n",
       " 'file_header',\n",
       " 'file_header_dtype',\n",
       " 'filtriranje2',\n",
       " 'i',\n",
       " 'jit',\n",
       " 'kanal2',\n",
       " 'kanal3',\n",
       " 'kanalica',\n",
       " 'kanalica2',\n",
       " 'kanalica2_eliminisani',\n",
       " 'kanalica3',\n",
       " 'kanalica4',\n",
       " 'kanalica4_eliminisani',\n",
       " 'kanalica5',\n",
       " 'matplotlib',\n",
       " 'n',\n",
       " 'np',\n",
       " 'plt',\n",
       " 'vreme']"
      ]
     },
     "execution_count": 157,
     "metadata": {},
     "output_type": "execute_result"
    }
   ],
   "source": [
    "who_ls"
   ]
  },
  {
   "cell_type": "code",
   "execution_count": 60,
   "metadata": {
    "collapsed": true
   },
   "outputs": [],
   "source": [
    "#%reset_selective -f file_header"
   ]
  },
  {
   "cell_type": "code",
   "execution_count": null,
   "metadata": {
    "collapsed": true
   },
   "outputs": [],
   "source": []
  }
 ],
 "metadata": {
  "kernelspec": {
   "display_name": "Python 2",
   "language": "python",
   "name": "python2"
  },
  "language_info": {
   "codemirror_mode": {
    "name": "ipython",
    "version": 2
   },
   "file_extension": ".py",
   "mimetype": "text/x-python",
   "name": "python",
   "nbconvert_exporter": "python",
   "pygments_lexer": "ipython2",
   "version": "2.7.11"
  }
 },
 "nbformat": 4,
 "nbformat_minor": 0
}
