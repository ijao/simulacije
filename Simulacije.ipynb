{
 "cells": [
  {
   "cell_type": "code",
   "execution_count": 1,
   "metadata": {
    "collapsed": false
   },
   "outputs": [],
   "source": [
    "f = open('c:\\DRS4 2013.04.26 22pf Coinc 2-3.dat','rb')"
   ]
  },
  {
   "cell_type": "code",
   "execution_count": 2,
   "metadata": {
    "collapsed": false
   },
   "outputs": [],
   "source": [
    "import struct\n",
    "import numpy as np\n",
    "import matplotlib\n",
    "import matplotlib.pyplot as plt"
   ]
  },
  {
   "cell_type": "code",
   "execution_count": 3,
   "metadata": {
    "collapsed": false
   },
   "outputs": [
    {
     "data": {
      "text/plain": [
       "(0.0,)"
      ]
     },
     "execution_count": 3,
     "metadata": {},
     "output_type": "execute_result"
    }
   ],
   "source": [
    "struct.unpack('f', '\\x00\\x00\\x00\\x00')"
   ]
  },
  {
   "cell_type": "code",
   "execution_count": 4,
   "metadata": {
    "collapsed": false
   },
   "outputs": [
    {
     "data": {
      "text/plain": [
       "(0.19859199225902557,)"
      ]
     },
     "execution_count": 4,
     "metadata": {},
     "output_type": "execute_result"
    }
   ],
   "source": [
    "struct.unpack('f', '\\xb3[K>')"
   ]
  },
  {
   "cell_type": "code",
   "execution_count": 5,
   "metadata": {
    "collapsed": false
   },
   "outputs": [
    {
     "name": "stdout",
     "output_type": "stream",
     "text": [
      "(1,)\n",
      "(2003,)\n",
      "(6,)\n",
      "(10,)\n",
      "(0,)\n",
      "(49,)\n",
      "(24,)\n",
      "(53,)\n",
      "(0,)\n"
     ]
    }
   ],
   "source": [
    "print struct.unpack('I', '\\x01\\x00\\x00\\x00') #Serial number starting with 1  - integer\n",
    "print struct.unpack('H', '\\xd3\\x07') #godina, svih 8 je unsigned short - H\n",
    "print struct.unpack('H', '\\x06\\x00') #mesec\n",
    "print struct.unpack('H', '\\n\\x00')   #dan\n",
    "print struct.unpack('H', '\\x00\\x00') #sat\n",
    "print struct.unpack('H', '1\\x00')    #minut\n",
    "print struct.unpack('H', '\\x18\\x00') #sekund\n",
    "print struct.unpack('H',  '5\\x00')   #milisekund\n",
    "print struct.unpack('H', '\\x00\\x00') #reserved"
   ]
  },
  {
   "cell_type": "code",
   "execution_count": 6,
   "metadata": {
    "collapsed": false
   },
   "outputs": [
    {
     "data": {
      "text/plain": [
       "'EHDR'"
      ]
     },
     "execution_count": 6,
     "metadata": {},
     "output_type": "execute_result"
    }
   ],
   "source": [
    "f.seek(0)\n",
    "f.read(4)"
   ]
  },
  {
   "cell_type": "code",
   "execution_count": 7,
   "metadata": {
    "collapsed": false
   },
   "outputs": [
    {
     "data": {
      "text/plain": [
       "'C002'"
      ]
     },
     "execution_count": 7,
     "metadata": {},
     "output_type": "execute_result"
    }
   ],
   "source": [
    "f.seek(1030*4)\n",
    "f.read(4)"
   ]
  },
  {
   "cell_type": "code",
   "execution_count": 8,
   "metadata": {
    "collapsed": false
   },
   "outputs": [
    {
     "data": {
      "text/plain": [
       "'C003'"
      ]
     },
     "execution_count": 8,
     "metadata": {},
     "output_type": "execute_result"
    }
   ],
   "source": [
    "f.seek(1543*4)\n",
    "f.read(4)"
   ]
  },
  {
   "cell_type": "code",
   "execution_count": 9,
   "metadata": {
    "collapsed": false
   },
   "outputs": [
    {
     "data": {
      "text/plain": [
       "'EHDR'"
      ]
     },
     "execution_count": 9,
     "metadata": {},
     "output_type": "execute_result"
    }
   ],
   "source": [
    "f.seek(2056*4)\n",
    "f.read(4)"
   ]
  },
  {
   "cell_type": "code",
   "execution_count": 10,
   "metadata": {
    "collapsed": false
   },
   "outputs": [
    {
     "data": {
      "text/plain": [
       "'C002'"
      ]
     },
     "execution_count": 10,
     "metadata": {},
     "output_type": "execute_result"
    }
   ],
   "source": [
    "f.seek(3086*4)\n",
    "f.read(4)"
   ]
  },
  {
   "cell_type": "code",
   "execution_count": 11,
   "metadata": {
    "collapsed": false
   },
   "outputs": [
    {
     "data": {
      "text/plain": [
       "'C003'"
      ]
     },
     "execution_count": 11,
     "metadata": {},
     "output_type": "execute_result"
    }
   ],
   "source": [
    "f.seek(3599*4)\n",
    "f.read(4)"
   ]
  },
  {
   "cell_type": "code",
   "execution_count": 12,
   "metadata": {
    "collapsed": false
   },
   "outputs": [
    {
     "data": {
      "text/plain": [
       "'EHDR'"
      ]
     },
     "execution_count": 12,
     "metadata": {},
     "output_type": "execute_result"
    }
   ],
   "source": [
    "f.seek(4112*4)\n",
    "f.read(4)"
   ]
  },
  {
   "cell_type": "code",
   "execution_count": 13,
   "metadata": {
    "collapsed": false
   },
   "outputs": [
    {
     "data": {
      "text/plain": [
       "'C002'"
      ]
     },
     "execution_count": 13,
     "metadata": {},
     "output_type": "execute_result"
    }
   ],
   "source": [
    "f.seek(5142*4)\n",
    "f.read(4)"
   ]
  },
  {
   "cell_type": "code",
   "execution_count": 17,
   "metadata": {
    "collapsed": false
   },
   "outputs": [],
   "source": [
    "position = 1031\n",
    "no_of_2bytes_integers = 1024\n",
    "# move to position in file\n",
    "f.seek(position*4)\n",
    "# straight to numpy data (no buffering) \n",
    "numpy_data_voltages = np.fromfile(f, dtype = np.dtype('<i2'), count = no_of_2bytes_integers)\n",
    "konacno = numpy_data_voltages / 65535.0 - 0.5"
   ]
  },
  {
   "cell_type": "code",
   "execution_count": 18,
   "metadata": {
    "collapsed": false
   },
   "outputs": [],
   "source": [
    "position = 6\n",
    "no_of_4bytes_floats = 1024\n",
    "# move to position in file\n",
    "f.seek(position*4)\n",
    "# straight to numpy data (no buffering) \n",
    "numpy_data_timebins = np.fromfile(f, dtype = np.dtype('float32'), count = no_of_4bytes_floats)"
   ]
  },
  {
   "cell_type": "code",
   "execution_count": 140,
   "metadata": {
    "collapsed": false
   },
   "outputs": [
    {
     "name": "stdout",
     "output_type": "stream",
     "text": [
      "(0.0,)\n",
      "(0.19859199225902557,)\n",
      "(0.3975471556186676,)\n",
      "(0.5959204435348511,)\n",
      "(0.7941677570343018,)\n",
      "(0.9919111132621765,)\n",
      "(1.190144658088684,)\n",
      "(1.3880773782730103,)\n",
      "(1.586425542831421,)\n",
      "(1.784962773323059,)\n",
      "(1.9843864440917969,)\n",
      "(2.1832528114318848,)\n",
      "(2.3823328018188477,)\n",
      "(2.581315755844116,)\n",
      "(2.778780937194824,)\n",
      "(2.9749321937561035,)\n",
      "(3.1703171730041504,)\n",
      "(3.3660006523132324,)\n",
      "(3.5622663497924805,)\n",
      "(3.7581846714019775,)\n",
      "(3.955045700073242,)\n",
      "(4.152501106262207,)\n",
      "(4.351605415344238,)\n",
      "(4.549613952636719,)\n",
      "(4.747169494628906,)\n",
      "(4.944191932678223,)\n",
      "(5.141616344451904,)\n",
      "(5.338048458099365,)\n",
      "(5.534450531005859,)\n",
      "(5.7308220863342285,)\n",
      "(5.927877426147461,)\n",
      "(6.124143123626709,)\n",
      "(6.3207173347473145,)\n",
      "(6.517062664031982,)\n",
      "(6.712804794311523,)\n",
      "(6.907997131347656,)\n",
      "(7.102766990661621,)\n",
      "(7.296957492828369,)\n",
      "(7.490598678588867,)\n",
      "(7.6842241287231445,)\n",
      "(7.877395153045654,)\n",
      "(8.070816993713379,)\n",
      "(8.264716148376465,)\n",
      "(8.458545684814453,)\n",
      "(8.653154373168945,)\n",
      "(8.847574234008789,)\n",
      "(9.042119026184082,)\n",
      "(9.23631763458252,)\n",
      "(9.43020248413086,)\n",
      "(9.623980522155762,)\n",
      "C003\n",
      "EHDR\n",
      "(0.0,)\n",
      "(0.19722644984722137,)\n",
      "(0.3943226933479309,)\n",
      "(0.5900532007217407,)\n",
      "(0.7852227687835693,)\n",
      "(0.9804590940475464,)\n",
      "(1.1759729385375977,)\n",
      "(1.3702620267868042,)\n",
      "(1.5623937845230103,)\n",
      "(1.7553054094314575,)\n",
      "(1.947830319404602,)\n",
      "(2.1390316486358643,)\n",
      "(2.329432487487793,)\n",
      "(2.5198967456817627,)\n",
      "(2.7108352184295654,)\n",
      "(2.901909828186035,)\n",
      "(3.092867612838745,)\n",
      "(3.2846052646636963,)\n",
      "(3.4769856929779053,)\n",
      "(3.6702167987823486,)\n",
      "(3.8638460636138916,)\n",
      "(4.057969093322754,)\n",
      "(4.252753257751465,)\n",
      "(4.448237419128418,)\n",
      "(4.645079612731934,)\n",
      "(4.841519355773926,)\n",
      "(5.037395000457764,)\n",
      "(5.232741832733154,)\n",
      "(5.42756986618042,)\n",
      "(5.621912002563477,)\n",
      "(5.8159499168396,)\n",
      "(6.010131359100342,)\n",
      "(6.204963684082031,)\n",
      "(6.400237083435059,)\n",
      "(6.594951152801514,)\n",
      "(6.788778305053711,)\n",
      "(6.982943534851074,)\n",
      "(7.177044868469238,)\n",
      "(7.37209939956665,)\n",
      "(7.568241119384766,)\n",
      "(7.764745235443115,)\n",
      "(7.960961818695068,)\n",
      "(8.156152725219727,)\n",
      "(8.350724220275879,)\n",
      "(8.543417930603027,)\n",
      "(8.735725402832031,)\n",
      "(8.926284790039062,)\n",
      "(9.118660926818848,)\n",
      "(9.311092376708984,)\n",
      "(9.504613876342773,)\n"
     ]
    }
   ],
   "source": [
    "for i in range(0,200,4):\n",
    "    f.seek(24 + i)\n",
    "    print struct.unpack('f', f.read(4))\n",
    "f.seek(6172)\n",
    "print f.read(4)\n",
    "f.seek(8224)\n",
    "print f.read(4)\n",
    "for i in range(0,200,4):\n",
    "    f.seek(8248 + i)\n",
    "    print struct.unpack('f', f.read(4))"
   ]
  },
  {
   "cell_type": "code",
   "execution_count": 23,
   "metadata": {
    "collapsed": false
   },
   "outputs": [],
   "source": [
    "x = numpy_data_timebins\n",
    "y = konacno\n",
    "plt.scatter(x,y)\n",
    "plt.plot(x, y, 'r')\n",
    "plt.xlabel('timebins [ns]')\n",
    "plt.ylabel('voltages')\n",
    "plt.title('title')\n",
    "plt.show()"
   ]
  },
  {
   "cell_type": "code",
   "execution_count": 105,
   "metadata": {
    "collapsed": true
   },
   "outputs": [],
   "source": [
    "#ovaj\n",
    "x = numpy_data_timebins\n",
    "y = -numpy_data_voltages\n",
    "plt.scatter(x,y)\n",
    "plt.plot(x, y, 'r')\n",
    "plt.xlabel('timebins [ns]')\n",
    "plt.ylabel('voltages')\n",
    "plt.title('title')\n",
    "plt.show()"
   ]
  },
  {
   "cell_type": "code",
   "execution_count": 2,
   "metadata": {
    "collapsed": false
   },
   "outputs": [
    {
     "data": {
      "text/plain": [
       "(248461, 124180)"
      ]
     },
     "execution_count": 2,
     "metadata": {},
     "output_type": "execute_result"
    }
   ],
   "source": [
    "from functools import partial\n",
    "count_canal = 0\n",
    "count_event = 0\n",
    "with open('c:\\DRS4 2013.04.26 22pf Coinc 2-3.dat','rb') as openfileobject:    \n",
    "    for chunk in iter(partial(openfileobject.read, 4), ''):\n",
    "        if chunk[0:3] == 'C00':\n",
    "            count_canal = count_canal + 1\n",
    "        elif chunk == 'EHDR':\n",
    "            count_event = count_event + 1\n",
    "count_canal,count_event"
   ]
  },
  {
   "cell_type": "code",
   "execution_count": 24,
   "metadata": {
    "collapsed": false
   },
   "outputs": [
    {
     "data": {
      "text/plain": [
       "248461"
      ]
     },
     "execution_count": 24,
     "metadata": {},
     "output_type": "execute_result"
    }
   ],
   "source": [
    "from functools import partial\n",
    "position = 0\n",
    "voltage_position = []\n",
    "with open('c:\\DRS4 2013.04.26 22pf Coinc 2-3.dat','rb') as openfileobject:    \n",
    "    for chunk in iter(partial(openfileobject.read, 4), ''):\n",
    "        position += 4\n",
    "        if chunk[0:3] == 'C00':\n",
    "            voltage_position.append(position)\n",
    "len(voltage_position)"
   ]
  },
  {
   "cell_type": "code",
   "execution_count": null,
   "metadata": {
    "collapsed": false
   },
   "outputs": [],
   "source": []
  }
 ],
 "metadata": {
  "kernelspec": {
   "display_name": "Python 2",
   "language": "python",
   "name": "python2"
  },
  "language_info": {
   "codemirror_mode": {
    "name": "ipython",
    "version": 2
   },
   "file_extension": ".py",
   "mimetype": "text/x-python",
   "name": "python",
   "nbconvert_exporter": "python",
   "pygments_lexer": "ipython2",
   "version": "2.7.11"
  }
 },
 "nbformat": 4,
 "nbformat_minor": 0
}
